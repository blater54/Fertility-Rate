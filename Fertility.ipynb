{
 "cells": [
  {
   "cell_type": "markdown",
   "metadata": {},
   "source": [
    "# Introduction"
   ]
  },
  {
   "cell_type": "markdown",
   "metadata": {},
   "source": [
    "U.S. Fertility Rate has dropped to its lowest in 2019. In this dataset, I am going to use a data set from UCI Machine Learning Respository. This project will focus on 100 volunteers who donated their sperm. The objective of this project is to predict if semen will be normal or altered from volunteers' past history. "
   ]
  },
  {
   "cell_type": "markdown",
   "metadata": {},
   "source": [
    "# Import Libaries"
   ]
  },
  {
   "cell_type": "code",
   "execution_count": 36,
   "metadata": {},
   "outputs": [],
   "source": [
    "import numpy as np\n",
    "import pandas as pd\n",
    "import matplotlib.pyplot as plt\n",
    "import seaborn as sns\n",
    "%matplotlib inline\n",
    "sns.set()"
   ]
  },
  {
   "cell_type": "markdown",
   "metadata": {},
   "source": [
    "# Read File "
   ]
  },
  {
   "cell_type": "code",
   "execution_count": 37,
   "metadata": {},
   "outputs": [],
   "source": [
    "fertility = pd.read_csv('fertility_Diagnosis.csv')"
   ]
  },
  {
   "cell_type": "markdown",
   "metadata": {},
   "source": [
    "Features:\n",
    " \n",
    "Season in which the analysis was performed. 1) winter, 2) spring, 3) Summer, 4) fall. (-1, -0.33, 0.33, 1)\n",
    "\n",
    "Age at the time of analysis. 18-36 (0, 1)\n",
    "\n",
    "Childish diseases (ie , chicken pox, measles, mumps, polio) 1) yes, 2) no. (0, 1)\n",
    "\n",
    "Accident or serious trauma 1) yes, 2) no. (0, 1)\n",
    "\n",
    "Surgical intervention 1) yes, 2) no. (0, 1)\n",
    "\n",
    "High fevers in the last year 1) less than three months ago, 2) more than three months ago, 3) no. (-1, 0, 1)\n",
    "\n",
    "Frequency of alcohol consumption 1) several times a day, 2) every day, 3) several times a week, 4) once a week, 5) hardly ever or never (0, 1)\n",
    "\n",
    "Smoking habit 1) never, 2) occasional 3) daily. (-1, 0, 1)\n",
    "\n",
    "Number of hours spent sitting per day ene-16 (0, 1)\n",
    "\n",
    "Output: Diagnosis normal (N), altered (O)"
   ]
  },
  {
   "cell_type": "code",
   "execution_count": 38,
   "metadata": {},
   "outputs": [
    {
     "data": {
      "text/html": [
       "<div>\n",
       "<style scoped>\n",
       "    .dataframe tbody tr th:only-of-type {\n",
       "        vertical-align: middle;\n",
       "    }\n",
       "\n",
       "    .dataframe tbody tr th {\n",
       "        vertical-align: top;\n",
       "    }\n",
       "\n",
       "    .dataframe thead th {\n",
       "        text-align: right;\n",
       "    }\n",
       "</style>\n",
       "<table border=\"1\" class=\"dataframe\">\n",
       "  <thead>\n",
       "    <tr style=\"text-align: right;\">\n",
       "      <th></th>\n",
       "      <th>Season</th>\n",
       "      <th>Age at time of analysis</th>\n",
       "      <th>Childish Disease</th>\n",
       "      <th>Accident or Serious Trauma</th>\n",
       "      <th>Surgical Intervention</th>\n",
       "      <th>High Fevers in the last year</th>\n",
       "      <th>Frequency of alcohol Consumption</th>\n",
       "      <th>Smoking Habit</th>\n",
       "      <th>Number of Hours sitting Per Day</th>\n",
       "      <th>Output</th>\n",
       "    </tr>\n",
       "  </thead>\n",
       "  <tbody>\n",
       "    <tr>\n",
       "      <td>0</td>\n",
       "      <td>-0.33</td>\n",
       "      <td>0.69</td>\n",
       "      <td>0</td>\n",
       "      <td>1</td>\n",
       "      <td>1</td>\n",
       "      <td>0</td>\n",
       "      <td>0.8</td>\n",
       "      <td>0</td>\n",
       "      <td>0.88</td>\n",
       "      <td>N</td>\n",
       "    </tr>\n",
       "    <tr>\n",
       "      <td>1</td>\n",
       "      <td>-0.33</td>\n",
       "      <td>0.94</td>\n",
       "      <td>1</td>\n",
       "      <td>0</td>\n",
       "      <td>1</td>\n",
       "      <td>0</td>\n",
       "      <td>0.8</td>\n",
       "      <td>1</td>\n",
       "      <td>0.31</td>\n",
       "      <td>O</td>\n",
       "    </tr>\n",
       "    <tr>\n",
       "      <td>2</td>\n",
       "      <td>-0.33</td>\n",
       "      <td>0.50</td>\n",
       "      <td>1</td>\n",
       "      <td>0</td>\n",
       "      <td>0</td>\n",
       "      <td>0</td>\n",
       "      <td>1.0</td>\n",
       "      <td>-1</td>\n",
       "      <td>0.50</td>\n",
       "      <td>N</td>\n",
       "    </tr>\n",
       "    <tr>\n",
       "      <td>3</td>\n",
       "      <td>-0.33</td>\n",
       "      <td>0.75</td>\n",
       "      <td>0</td>\n",
       "      <td>1</td>\n",
       "      <td>1</td>\n",
       "      <td>0</td>\n",
       "      <td>1.0</td>\n",
       "      <td>-1</td>\n",
       "      <td>0.38</td>\n",
       "      <td>N</td>\n",
       "    </tr>\n",
       "    <tr>\n",
       "      <td>4</td>\n",
       "      <td>-0.33</td>\n",
       "      <td>0.67</td>\n",
       "      <td>1</td>\n",
       "      <td>1</td>\n",
       "      <td>0</td>\n",
       "      <td>0</td>\n",
       "      <td>0.8</td>\n",
       "      <td>-1</td>\n",
       "      <td>0.50</td>\n",
       "      <td>O</td>\n",
       "    </tr>\n",
       "  </tbody>\n",
       "</table>\n",
       "</div>"
      ],
      "text/plain": [
       "   Season  Age at time of analysis  Childish Disease  \\\n",
       "0   -0.33                     0.69                 0   \n",
       "1   -0.33                     0.94                 1   \n",
       "2   -0.33                     0.50                 1   \n",
       "3   -0.33                     0.75                 0   \n",
       "4   -0.33                     0.67                 1   \n",
       "\n",
       "   Accident or Serious Trauma  Surgical Intervention  \\\n",
       "0                           1                      1   \n",
       "1                           0                      1   \n",
       "2                           0                      0   \n",
       "3                           1                      1   \n",
       "4                           1                      0   \n",
       "\n",
       "   High Fevers in the last year  Frequency of alcohol Consumption  \\\n",
       "0                             0                               0.8   \n",
       "1                             0                               0.8   \n",
       "2                             0                               1.0   \n",
       "3                             0                               1.0   \n",
       "4                             0                               0.8   \n",
       "\n",
       "   Smoking Habit  Number of Hours sitting Per Day Output  \n",
       "0              0                             0.88      N  \n",
       "1              1                             0.31      O  \n",
       "2             -1                             0.50      N  \n",
       "3             -1                             0.38      N  \n",
       "4             -1                             0.50      O  "
      ]
     },
     "execution_count": 38,
     "metadata": {},
     "output_type": "execute_result"
    }
   ],
   "source": [
    "fertility.head()"
   ]
  },
  {
   "cell_type": "code",
   "execution_count": 39,
   "metadata": {},
   "outputs": [
    {
     "data": {
      "text/html": [
       "<div>\n",
       "<style scoped>\n",
       "    .dataframe tbody tr th:only-of-type {\n",
       "        vertical-align: middle;\n",
       "    }\n",
       "\n",
       "    .dataframe tbody tr th {\n",
       "        vertical-align: top;\n",
       "    }\n",
       "\n",
       "    .dataframe thead th {\n",
       "        text-align: right;\n",
       "    }\n",
       "</style>\n",
       "<table border=\"1\" class=\"dataframe\">\n",
       "  <thead>\n",
       "    <tr style=\"text-align: right;\">\n",
       "      <th></th>\n",
       "      <th>Season</th>\n",
       "      <th>Age at time of analysis</th>\n",
       "      <th>Childish Disease</th>\n",
       "      <th>Accident or Serious Trauma</th>\n",
       "      <th>Surgical Intervention</th>\n",
       "      <th>High Fevers in the last year</th>\n",
       "      <th>Frequency of alcohol Consumption</th>\n",
       "      <th>Smoking Habit</th>\n",
       "      <th>Number of Hours sitting Per Day</th>\n",
       "    </tr>\n",
       "  </thead>\n",
       "  <tbody>\n",
       "    <tr>\n",
       "      <td>count</td>\n",
       "      <td>100.000000</td>\n",
       "      <td>100.000000</td>\n",
       "      <td>100.000000</td>\n",
       "      <td>100.000000</td>\n",
       "      <td>100.000000</td>\n",
       "      <td>100.000000</td>\n",
       "      <td>100.000000</td>\n",
       "      <td>100.000000</td>\n",
       "      <td>100.000000</td>\n",
       "    </tr>\n",
       "    <tr>\n",
       "      <td>mean</td>\n",
       "      <td>-0.078900</td>\n",
       "      <td>0.669000</td>\n",
       "      <td>0.870000</td>\n",
       "      <td>0.440000</td>\n",
       "      <td>0.510000</td>\n",
       "      <td>0.190000</td>\n",
       "      <td>0.832000</td>\n",
       "      <td>-0.350000</td>\n",
       "      <td>0.406800</td>\n",
       "    </tr>\n",
       "    <tr>\n",
       "      <td>std</td>\n",
       "      <td>0.796725</td>\n",
       "      <td>0.121319</td>\n",
       "      <td>0.337998</td>\n",
       "      <td>0.498888</td>\n",
       "      <td>0.502418</td>\n",
       "      <td>0.580752</td>\n",
       "      <td>0.167501</td>\n",
       "      <td>0.808728</td>\n",
       "      <td>0.186395</td>\n",
       "    </tr>\n",
       "    <tr>\n",
       "      <td>min</td>\n",
       "      <td>-1.000000</td>\n",
       "      <td>0.500000</td>\n",
       "      <td>0.000000</td>\n",
       "      <td>0.000000</td>\n",
       "      <td>0.000000</td>\n",
       "      <td>-1.000000</td>\n",
       "      <td>0.200000</td>\n",
       "      <td>-1.000000</td>\n",
       "      <td>0.060000</td>\n",
       "    </tr>\n",
       "    <tr>\n",
       "      <td>25%</td>\n",
       "      <td>-1.000000</td>\n",
       "      <td>0.560000</td>\n",
       "      <td>1.000000</td>\n",
       "      <td>0.000000</td>\n",
       "      <td>0.000000</td>\n",
       "      <td>0.000000</td>\n",
       "      <td>0.800000</td>\n",
       "      <td>-1.000000</td>\n",
       "      <td>0.250000</td>\n",
       "    </tr>\n",
       "    <tr>\n",
       "      <td>50%</td>\n",
       "      <td>-0.330000</td>\n",
       "      <td>0.670000</td>\n",
       "      <td>1.000000</td>\n",
       "      <td>0.000000</td>\n",
       "      <td>1.000000</td>\n",
       "      <td>0.000000</td>\n",
       "      <td>0.800000</td>\n",
       "      <td>-1.000000</td>\n",
       "      <td>0.380000</td>\n",
       "    </tr>\n",
       "    <tr>\n",
       "      <td>75%</td>\n",
       "      <td>1.000000</td>\n",
       "      <td>0.750000</td>\n",
       "      <td>1.000000</td>\n",
       "      <td>1.000000</td>\n",
       "      <td>1.000000</td>\n",
       "      <td>1.000000</td>\n",
       "      <td>1.000000</td>\n",
       "      <td>0.000000</td>\n",
       "      <td>0.500000</td>\n",
       "    </tr>\n",
       "    <tr>\n",
       "      <td>max</td>\n",
       "      <td>1.000000</td>\n",
       "      <td>1.000000</td>\n",
       "      <td>1.000000</td>\n",
       "      <td>1.000000</td>\n",
       "      <td>1.000000</td>\n",
       "      <td>1.000000</td>\n",
       "      <td>1.000000</td>\n",
       "      <td>1.000000</td>\n",
       "      <td>1.000000</td>\n",
       "    </tr>\n",
       "  </tbody>\n",
       "</table>\n",
       "</div>"
      ],
      "text/plain": [
       "           Season  Age at time of analysis  Childish Disease  \\\n",
       "count  100.000000               100.000000        100.000000   \n",
       "mean    -0.078900                 0.669000          0.870000   \n",
       "std      0.796725                 0.121319          0.337998   \n",
       "min     -1.000000                 0.500000          0.000000   \n",
       "25%     -1.000000                 0.560000          1.000000   \n",
       "50%     -0.330000                 0.670000          1.000000   \n",
       "75%      1.000000                 0.750000          1.000000   \n",
       "max      1.000000                 1.000000          1.000000   \n",
       "\n",
       "       Accident or Serious Trauma  Surgical Intervention  \\\n",
       "count                  100.000000             100.000000   \n",
       "mean                     0.440000               0.510000   \n",
       "std                      0.498888               0.502418   \n",
       "min                      0.000000               0.000000   \n",
       "25%                      0.000000               0.000000   \n",
       "50%                      0.000000               1.000000   \n",
       "75%                      1.000000               1.000000   \n",
       "max                      1.000000               1.000000   \n",
       "\n",
       "       High Fevers in the last year  Frequency of alcohol Consumption  \\\n",
       "count                    100.000000                        100.000000   \n",
       "mean                       0.190000                          0.832000   \n",
       "std                        0.580752                          0.167501   \n",
       "min                       -1.000000                          0.200000   \n",
       "25%                        0.000000                          0.800000   \n",
       "50%                        0.000000                          0.800000   \n",
       "75%                        1.000000                          1.000000   \n",
       "max                        1.000000                          1.000000   \n",
       "\n",
       "       Smoking Habit  Number of Hours sitting Per Day  \n",
       "count     100.000000                       100.000000  \n",
       "mean       -0.350000                         0.406800  \n",
       "std         0.808728                         0.186395  \n",
       "min        -1.000000                         0.060000  \n",
       "25%        -1.000000                         0.250000  \n",
       "50%        -1.000000                         0.380000  \n",
       "75%         0.000000                         0.500000  \n",
       "max         1.000000                         1.000000  "
      ]
     },
     "execution_count": 39,
     "metadata": {},
     "output_type": "execute_result"
    }
   ],
   "source": [
    "fertility.describe()"
   ]
  },
  {
   "cell_type": "markdown",
   "metadata": {},
   "source": [
    "# Check for Missing Values"
   ]
  },
  {
   "cell_type": "code",
   "execution_count": 40,
   "metadata": {},
   "outputs": [
    {
     "data": {
      "text/plain": [
       "Season                              0\n",
       "Age at time of analysis             0\n",
       "Childish Disease                    0\n",
       "Accident or Serious Trauma          0\n",
       "Surgical Intervention               0\n",
       "High Fevers in the last year        0\n",
       "Frequency of alcohol Consumption    0\n",
       "Smoking Habit                       0\n",
       "Number of Hours sitting Per Day     0\n",
       "Output                              0\n",
       "dtype: int64"
      ]
     },
     "execution_count": 40,
     "metadata": {},
     "output_type": "execute_result"
    }
   ],
   "source": [
    "fertility.isnull().sum()"
   ]
  },
  {
   "cell_type": "markdown",
   "metadata": {},
   "source": [
    "It looks like there are no missing vales for this data set, let us proceed to clean the data. "
   ]
  },
  {
   "cell_type": "markdown",
   "metadata": {},
   "source": [
    "# Data Cleaning "
   ]
  },
  {
   "cell_type": "markdown",
   "metadata": {},
   "source": [
    "One of the biggest thing that stood out for me is the first column: season. The data comes as numperical values, but I think it would be more appropriate to covert it to its appropriate text and then use convert it to dummy variables. Another reason why I deecided to do this is because it can help with data visualization"
   ]
  },
  {
   "cell_type": "code",
   "execution_count": 41,
   "metadata": {},
   "outputs": [],
   "source": [
    "fertility['Season'].replace([-1,-.33,.33,1],['Winter','spring','Summer','fall'],inplace = True)"
   ]
  },
  {
   "cell_type": "code",
   "execution_count": 42,
   "metadata": {},
   "outputs": [
    {
     "data": {
      "text/html": [
       "<div>\n",
       "<style scoped>\n",
       "    .dataframe tbody tr th:only-of-type {\n",
       "        vertical-align: middle;\n",
       "    }\n",
       "\n",
       "    .dataframe tbody tr th {\n",
       "        vertical-align: top;\n",
       "    }\n",
       "\n",
       "    .dataframe thead th {\n",
       "        text-align: right;\n",
       "    }\n",
       "</style>\n",
       "<table border=\"1\" class=\"dataframe\">\n",
       "  <thead>\n",
       "    <tr style=\"text-align: right;\">\n",
       "      <th></th>\n",
       "      <th>Season</th>\n",
       "      <th>Age at time of analysis</th>\n",
       "      <th>Childish Disease</th>\n",
       "      <th>Accident or Serious Trauma</th>\n",
       "      <th>Surgical Intervention</th>\n",
       "      <th>High Fevers in the last year</th>\n",
       "      <th>Frequency of alcohol Consumption</th>\n",
       "      <th>Smoking Habit</th>\n",
       "      <th>Number of Hours sitting Per Day</th>\n",
       "      <th>Output</th>\n",
       "    </tr>\n",
       "  </thead>\n",
       "  <tbody>\n",
       "    <tr>\n",
       "      <td>0</td>\n",
       "      <td>spring</td>\n",
       "      <td>0.69</td>\n",
       "      <td>0</td>\n",
       "      <td>1</td>\n",
       "      <td>1</td>\n",
       "      <td>0</td>\n",
       "      <td>0.8</td>\n",
       "      <td>0</td>\n",
       "      <td>0.88</td>\n",
       "      <td>N</td>\n",
       "    </tr>\n",
       "    <tr>\n",
       "      <td>1</td>\n",
       "      <td>spring</td>\n",
       "      <td>0.94</td>\n",
       "      <td>1</td>\n",
       "      <td>0</td>\n",
       "      <td>1</td>\n",
       "      <td>0</td>\n",
       "      <td>0.8</td>\n",
       "      <td>1</td>\n",
       "      <td>0.31</td>\n",
       "      <td>O</td>\n",
       "    </tr>\n",
       "    <tr>\n",
       "      <td>2</td>\n",
       "      <td>spring</td>\n",
       "      <td>0.50</td>\n",
       "      <td>1</td>\n",
       "      <td>0</td>\n",
       "      <td>0</td>\n",
       "      <td>0</td>\n",
       "      <td>1.0</td>\n",
       "      <td>-1</td>\n",
       "      <td>0.50</td>\n",
       "      <td>N</td>\n",
       "    </tr>\n",
       "    <tr>\n",
       "      <td>3</td>\n",
       "      <td>spring</td>\n",
       "      <td>0.75</td>\n",
       "      <td>0</td>\n",
       "      <td>1</td>\n",
       "      <td>1</td>\n",
       "      <td>0</td>\n",
       "      <td>1.0</td>\n",
       "      <td>-1</td>\n",
       "      <td>0.38</td>\n",
       "      <td>N</td>\n",
       "    </tr>\n",
       "    <tr>\n",
       "      <td>4</td>\n",
       "      <td>spring</td>\n",
       "      <td>0.67</td>\n",
       "      <td>1</td>\n",
       "      <td>1</td>\n",
       "      <td>0</td>\n",
       "      <td>0</td>\n",
       "      <td>0.8</td>\n",
       "      <td>-1</td>\n",
       "      <td>0.50</td>\n",
       "      <td>O</td>\n",
       "    </tr>\n",
       "  </tbody>\n",
       "</table>\n",
       "</div>"
      ],
      "text/plain": [
       "   Season  Age at time of analysis  Childish Disease  \\\n",
       "0  spring                     0.69                 0   \n",
       "1  spring                     0.94                 1   \n",
       "2  spring                     0.50                 1   \n",
       "3  spring                     0.75                 0   \n",
       "4  spring                     0.67                 1   \n",
       "\n",
       "   Accident or Serious Trauma  Surgical Intervention  \\\n",
       "0                           1                      1   \n",
       "1                           0                      1   \n",
       "2                           0                      0   \n",
       "3                           1                      1   \n",
       "4                           1                      0   \n",
       "\n",
       "   High Fevers in the last year  Frequency of alcohol Consumption  \\\n",
       "0                             0                               0.8   \n",
       "1                             0                               0.8   \n",
       "2                             0                               1.0   \n",
       "3                             0                               1.0   \n",
       "4                             0                               0.8   \n",
       "\n",
       "   Smoking Habit  Number of Hours sitting Per Day Output  \n",
       "0              0                             0.88      N  \n",
       "1              1                             0.31      O  \n",
       "2             -1                             0.50      N  \n",
       "3             -1                             0.38      N  \n",
       "4             -1                             0.50      O  "
      ]
     },
     "execution_count": 42,
     "metadata": {},
     "output_type": "execute_result"
    }
   ],
   "source": [
    "fertility.head()"
   ]
  },
  {
   "cell_type": "markdown",
   "metadata": {},
   "source": [
    "I will then do the same for High Fevers in the last year and smoking habit"
   ]
  },
  {
   "cell_type": "code",
   "execution_count": 43,
   "metadata": {},
   "outputs": [],
   "source": [
    "fertility['High Fevers in the last year'].replace([-1,0,1],['less than three months ago','more than three months ago','none'],inplace=True)\n",
    "fertility['Smoking Habit'].replace([-1,0,1],['Never','Occasional','daily'],inplace=True)"
   ]
  },
  {
   "cell_type": "code",
   "execution_count": 44,
   "metadata": {},
   "outputs": [
    {
     "data": {
      "text/html": [
       "<div>\n",
       "<style scoped>\n",
       "    .dataframe tbody tr th:only-of-type {\n",
       "        vertical-align: middle;\n",
       "    }\n",
       "\n",
       "    .dataframe tbody tr th {\n",
       "        vertical-align: top;\n",
       "    }\n",
       "\n",
       "    .dataframe thead th {\n",
       "        text-align: right;\n",
       "    }\n",
       "</style>\n",
       "<table border=\"1\" class=\"dataframe\">\n",
       "  <thead>\n",
       "    <tr style=\"text-align: right;\">\n",
       "      <th></th>\n",
       "      <th>Season</th>\n",
       "      <th>Age at time of analysis</th>\n",
       "      <th>Childish Disease</th>\n",
       "      <th>Accident or Serious Trauma</th>\n",
       "      <th>Surgical Intervention</th>\n",
       "      <th>High Fevers in the last year</th>\n",
       "      <th>Frequency of alcohol Consumption</th>\n",
       "      <th>Smoking Habit</th>\n",
       "      <th>Number of Hours sitting Per Day</th>\n",
       "      <th>Output</th>\n",
       "    </tr>\n",
       "  </thead>\n",
       "  <tbody>\n",
       "    <tr>\n",
       "      <td>0</td>\n",
       "      <td>spring</td>\n",
       "      <td>0.69</td>\n",
       "      <td>0</td>\n",
       "      <td>1</td>\n",
       "      <td>1</td>\n",
       "      <td>more than three months ago</td>\n",
       "      <td>0.8</td>\n",
       "      <td>Occasional</td>\n",
       "      <td>0.88</td>\n",
       "      <td>N</td>\n",
       "    </tr>\n",
       "    <tr>\n",
       "      <td>1</td>\n",
       "      <td>spring</td>\n",
       "      <td>0.94</td>\n",
       "      <td>1</td>\n",
       "      <td>0</td>\n",
       "      <td>1</td>\n",
       "      <td>more than three months ago</td>\n",
       "      <td>0.8</td>\n",
       "      <td>daily</td>\n",
       "      <td>0.31</td>\n",
       "      <td>O</td>\n",
       "    </tr>\n",
       "    <tr>\n",
       "      <td>2</td>\n",
       "      <td>spring</td>\n",
       "      <td>0.50</td>\n",
       "      <td>1</td>\n",
       "      <td>0</td>\n",
       "      <td>0</td>\n",
       "      <td>more than three months ago</td>\n",
       "      <td>1.0</td>\n",
       "      <td>Never</td>\n",
       "      <td>0.50</td>\n",
       "      <td>N</td>\n",
       "    </tr>\n",
       "    <tr>\n",
       "      <td>3</td>\n",
       "      <td>spring</td>\n",
       "      <td>0.75</td>\n",
       "      <td>0</td>\n",
       "      <td>1</td>\n",
       "      <td>1</td>\n",
       "      <td>more than three months ago</td>\n",
       "      <td>1.0</td>\n",
       "      <td>Never</td>\n",
       "      <td>0.38</td>\n",
       "      <td>N</td>\n",
       "    </tr>\n",
       "    <tr>\n",
       "      <td>4</td>\n",
       "      <td>spring</td>\n",
       "      <td>0.67</td>\n",
       "      <td>1</td>\n",
       "      <td>1</td>\n",
       "      <td>0</td>\n",
       "      <td>more than three months ago</td>\n",
       "      <td>0.8</td>\n",
       "      <td>Never</td>\n",
       "      <td>0.50</td>\n",
       "      <td>O</td>\n",
       "    </tr>\n",
       "  </tbody>\n",
       "</table>\n",
       "</div>"
      ],
      "text/plain": [
       "   Season  Age at time of analysis  Childish Disease  \\\n",
       "0  spring                     0.69                 0   \n",
       "1  spring                     0.94                 1   \n",
       "2  spring                     0.50                 1   \n",
       "3  spring                     0.75                 0   \n",
       "4  spring                     0.67                 1   \n",
       "\n",
       "   Accident or Serious Trauma  Surgical Intervention  \\\n",
       "0                           1                      1   \n",
       "1                           0                      1   \n",
       "2                           0                      0   \n",
       "3                           1                      1   \n",
       "4                           1                      0   \n",
       "\n",
       "  High Fevers in the last year  Frequency of alcohol Consumption  \\\n",
       "0   more than three months ago                               0.8   \n",
       "1   more than three months ago                               0.8   \n",
       "2   more than three months ago                               1.0   \n",
       "3   more than three months ago                               1.0   \n",
       "4   more than three months ago                               0.8   \n",
       "\n",
       "  Smoking Habit  Number of Hours sitting Per Day Output  \n",
       "0    Occasional                             0.88      N  \n",
       "1         daily                             0.31      O  \n",
       "2         Never                             0.50      N  \n",
       "3         Never                             0.38      N  \n",
       "4         Never                             0.50      O  "
      ]
     },
     "execution_count": 44,
     "metadata": {},
     "output_type": "execute_result"
    }
   ],
   "source": [
    "fertility.head()"
   ]
  },
  {
   "cell_type": "markdown",
   "metadata": {},
   "source": [
    "since we are trying to predict if the output is normal or altered, I will change 'N' to 0 and 'O' to 1. "
   ]
  },
  {
   "cell_type": "code",
   "execution_count": 45,
   "metadata": {},
   "outputs": [],
   "source": [
    "fertility['Output'].replace(['N','O'],[0,1],inplace = True)"
   ]
  },
  {
   "cell_type": "code",
   "execution_count": 46,
   "metadata": {},
   "outputs": [
    {
     "data": {
      "text/html": [
       "<div>\n",
       "<style scoped>\n",
       "    .dataframe tbody tr th:only-of-type {\n",
       "        vertical-align: middle;\n",
       "    }\n",
       "\n",
       "    .dataframe tbody tr th {\n",
       "        vertical-align: top;\n",
       "    }\n",
       "\n",
       "    .dataframe thead th {\n",
       "        text-align: right;\n",
       "    }\n",
       "</style>\n",
       "<table border=\"1\" class=\"dataframe\">\n",
       "  <thead>\n",
       "    <tr style=\"text-align: right;\">\n",
       "      <th></th>\n",
       "      <th>Season</th>\n",
       "      <th>Age at time of analysis</th>\n",
       "      <th>Childish Disease</th>\n",
       "      <th>Accident or Serious Trauma</th>\n",
       "      <th>Surgical Intervention</th>\n",
       "      <th>High Fevers in the last year</th>\n",
       "      <th>Frequency of alcohol Consumption</th>\n",
       "      <th>Smoking Habit</th>\n",
       "      <th>Number of Hours sitting Per Day</th>\n",
       "      <th>Output</th>\n",
       "    </tr>\n",
       "  </thead>\n",
       "  <tbody>\n",
       "    <tr>\n",
       "      <td>0</td>\n",
       "      <td>spring</td>\n",
       "      <td>0.69</td>\n",
       "      <td>0</td>\n",
       "      <td>1</td>\n",
       "      <td>1</td>\n",
       "      <td>more than three months ago</td>\n",
       "      <td>0.8</td>\n",
       "      <td>Occasional</td>\n",
       "      <td>0.88</td>\n",
       "      <td>0</td>\n",
       "    </tr>\n",
       "    <tr>\n",
       "      <td>1</td>\n",
       "      <td>spring</td>\n",
       "      <td>0.94</td>\n",
       "      <td>1</td>\n",
       "      <td>0</td>\n",
       "      <td>1</td>\n",
       "      <td>more than three months ago</td>\n",
       "      <td>0.8</td>\n",
       "      <td>daily</td>\n",
       "      <td>0.31</td>\n",
       "      <td>1</td>\n",
       "    </tr>\n",
       "    <tr>\n",
       "      <td>2</td>\n",
       "      <td>spring</td>\n",
       "      <td>0.50</td>\n",
       "      <td>1</td>\n",
       "      <td>0</td>\n",
       "      <td>0</td>\n",
       "      <td>more than three months ago</td>\n",
       "      <td>1.0</td>\n",
       "      <td>Never</td>\n",
       "      <td>0.50</td>\n",
       "      <td>0</td>\n",
       "    </tr>\n",
       "    <tr>\n",
       "      <td>3</td>\n",
       "      <td>spring</td>\n",
       "      <td>0.75</td>\n",
       "      <td>0</td>\n",
       "      <td>1</td>\n",
       "      <td>1</td>\n",
       "      <td>more than three months ago</td>\n",
       "      <td>1.0</td>\n",
       "      <td>Never</td>\n",
       "      <td>0.38</td>\n",
       "      <td>0</td>\n",
       "    </tr>\n",
       "    <tr>\n",
       "      <td>4</td>\n",
       "      <td>spring</td>\n",
       "      <td>0.67</td>\n",
       "      <td>1</td>\n",
       "      <td>1</td>\n",
       "      <td>0</td>\n",
       "      <td>more than three months ago</td>\n",
       "      <td>0.8</td>\n",
       "      <td>Never</td>\n",
       "      <td>0.50</td>\n",
       "      <td>1</td>\n",
       "    </tr>\n",
       "  </tbody>\n",
       "</table>\n",
       "</div>"
      ],
      "text/plain": [
       "   Season  Age at time of analysis  Childish Disease  \\\n",
       "0  spring                     0.69                 0   \n",
       "1  spring                     0.94                 1   \n",
       "2  spring                     0.50                 1   \n",
       "3  spring                     0.75                 0   \n",
       "4  spring                     0.67                 1   \n",
       "\n",
       "   Accident or Serious Trauma  Surgical Intervention  \\\n",
       "0                           1                      1   \n",
       "1                           0                      1   \n",
       "2                           0                      0   \n",
       "3                           1                      1   \n",
       "4                           1                      0   \n",
       "\n",
       "  High Fevers in the last year  Frequency of alcohol Consumption  \\\n",
       "0   more than three months ago                               0.8   \n",
       "1   more than three months ago                               0.8   \n",
       "2   more than three months ago                               1.0   \n",
       "3   more than three months ago                               1.0   \n",
       "4   more than three months ago                               0.8   \n",
       "\n",
       "  Smoking Habit  Number of Hours sitting Per Day  Output  \n",
       "0    Occasional                             0.88       0  \n",
       "1         daily                             0.31       1  \n",
       "2         Never                             0.50       0  \n",
       "3         Never                             0.38       0  \n",
       "4         Never                             0.50       1  "
      ]
     },
     "execution_count": 46,
     "metadata": {},
     "output_type": "execute_result"
    }
   ],
   "source": [
    "fertility.head()"
   ]
  },
  {
   "cell_type": "markdown",
   "metadata": {},
   "source": [
    "Now that that is done, lets perform some data visualzation "
   ]
  },
  {
   "cell_type": "markdown",
   "metadata": {},
   "source": [
    "# Data Visualization"
   ]
  },
  {
   "cell_type": "code",
   "execution_count": 47,
   "metadata": {},
   "outputs": [
    {
     "data": {
      "text/plain": [
       "Index(['Season', 'Age at time of analysis', 'Childish Disease',\n",
       "       'Accident or Serious Trauma', 'Surgical Intervention',\n",
       "       'High Fevers in the last year', 'Frequency of alcohol Consumption',\n",
       "       'Smoking Habit', 'Number of Hours sitting Per Day', 'Output'],\n",
       "      dtype='object')"
      ]
     },
     "execution_count": 47,
     "metadata": {},
     "output_type": "execute_result"
    }
   ],
   "source": [
    "fertility.columns"
   ]
  },
  {
   "cell_type": "markdown",
   "metadata": {},
   "source": [
    "I want to see the fertility rate of women who have normal diagnosis compared to altered Diagnosis"
   ]
  },
  {
   "cell_type": "code",
   "execution_count": 48,
   "metadata": {},
   "outputs": [
    {
     "data": {
      "text/plain": [
       "<matplotlib.axes._subplots.AxesSubplot at 0x294bab84d48>"
      ]
     },
     "execution_count": 48,
     "metadata": {},
     "output_type": "execute_result"
    },
    {
     "data": {
      "image/png": "[encoded data removed]",
      "text/plain": [
       "<Figure size 432x288 with 1 Axes>"
      ]
     },
     "metadata": {},
     "output_type": "display_data"
    }
   ],
   "source": [
    "sns.countplot(x='Output',data = fertility)"
   ]
  },
  {
   "cell_type": "markdown",
   "metadata": {},
   "source": [
    "Next I am going to look to see if seasons play a role in fertility rate"
   ]
  },
  {
   "cell_type": "code",
   "execution_count": 49,
   "metadata": {},
   "outputs": [
    {
     "data": {
      "text/plain": [
       "<matplotlib.axes._subplots.AxesSubplot at 0x294babdb9c8>"
      ]
     },
     "execution_count": 49,
     "metadata": {},
     "output_type": "execute_result"
    },
    {
     "data": {
      "image/png": "[encoded data removed]",
      "text/plain": [
       "<Figure size 432x288 with 1 Axes>"
      ]
     },
     "metadata": {},
     "output_type": "display_data"
    }
   ],
   "source": [
    "sns.countplot(x='Output',data = fertility, hue = 'Season')"
   ]
  },
  {
   "cell_type": "markdown",
   "metadata": {},
   "source": [
    "by looking at the data, there seem to be fewer men donating semen in summer compared to other seasons for a normal diagnogis. However, for altered diagnosis, it seems fall patient to be higher. I am then going to see if alcohol consumption will affect sperm fertality "
   ]
  },
  {
   "cell_type": "code",
   "execution_count": 50,
   "metadata": {},
   "outputs": [
    {
     "data": {
      "text/plain": [
       "<matplotlib.axes._subplots.AxesSubplot at 0x294bac56f08>"
      ]
     },
     "execution_count": 50,
     "metadata": {},
     "output_type": "execute_result"
    },
    {
     "data": {
      "image/png": "[encoded data removed]",
      "text/plain": [
       "<Figure size 432x288 with 1 Axes>"
      ]
     },
     "metadata": {},
     "output_type": "display_data"
    }
   ],
   "source": [
    "sns.countplot(x='Output',data = fertility, hue = 'Frequency of alcohol Consumption')"
   ]
  },
  {
   "cell_type": "markdown",
   "metadata": {},
   "source": [
    "It looks like alcohol consumption does not have an impact in fertility rate. I am going to look at surgical intervention for any report"
   ]
  },
  {
   "cell_type": "code",
   "execution_count": 51,
   "metadata": {},
   "outputs": [
    {
     "data": {
      "text/plain": [
       "<matplotlib.axes._subplots.AxesSubplot at 0x294bacd3f88>"
      ]
     },
     "execution_count": 51,
     "metadata": {},
     "output_type": "execute_result"
    },
    {
     "data": {
      "image/png": "[encoded data removed]",
      "text/plain": [
       "<Figure size 432x288 with 1 Axes>"
      ]
     },
     "metadata": {},
     "output_type": "display_data"
    }
   ],
   "source": [
    "sns.countplot(x='Surgical Intervention',data = fertility,palette='Blues')"
   ]
  },
  {
   "cell_type": "code",
   "execution_count": 72,
   "metadata": {},
   "outputs": [
    {
     "data": {
      "text/plain": [
       "<matplotlib.axes._subplots.AxesSubplot at 0x294bbdaec48>"
      ]
     },
     "execution_count": 72,
     "metadata": {},
     "output_type": "execute_result"
    },
    {
     "data": {
      "image/png": "[encoded data removed]",
      "text/plain": [
       "<Figure size 432x288 with 1 Axes>"
      ]
     },
     "metadata": {},
     "output_type": "display_data"
    }
   ],
   "source": [
    "sns.countplot(x='Surgical Intervention',data = fertility,palette='cubehelix',hue='Output')"
   ]
  },
  {
   "cell_type": "markdown",
   "metadata": {},
   "source": [
    "Surgical intervention waas interesting because it looks like surgical intervention will not create a cause for fertility. "
   ]
  },
  {
   "cell_type": "markdown",
   "metadata": {},
   "source": [
    "I now want to see if there's any strong correlation with diagnosis. In order to perform this, I will check the correlation. "
   ]
  },
  {
   "cell_type": "code",
   "execution_count": 53,
   "metadata": {},
   "outputs": [
    {
     "data": {
      "text/html": [
       "<div>\n",
       "<style scoped>\n",
       "    .dataframe tbody tr th:only-of-type {\n",
       "        vertical-align: middle;\n",
       "    }\n",
       "\n",
       "    .dataframe tbody tr th {\n",
       "        vertical-align: top;\n",
       "    }\n",
       "\n",
       "    .dataframe thead th {\n",
       "        text-align: right;\n",
       "    }\n",
       "</style>\n",
       "<table border=\"1\" class=\"dataframe\">\n",
       "  <thead>\n",
       "    <tr style=\"text-align: right;\">\n",
       "      <th></th>\n",
       "      <th>Age at time of analysis</th>\n",
       "      <th>Childish Disease</th>\n",
       "      <th>Accident or Serious Trauma</th>\n",
       "      <th>Surgical Intervention</th>\n",
       "      <th>Frequency of alcohol Consumption</th>\n",
       "      <th>Number of Hours sitting Per Day</th>\n",
       "      <th>Output</th>\n",
       "    </tr>\n",
       "  </thead>\n",
       "  <tbody>\n",
       "    <tr>\n",
       "      <td>Age at time of analysis</td>\n",
       "      <td>1.000000</td>\n",
       "      <td>0.080551</td>\n",
       "      <td>0.215958</td>\n",
       "      <td>0.271945</td>\n",
       "      <td>-0.247940</td>\n",
       "      <td>-0.442452</td>\n",
       "      <td>0.115229</td>\n",
       "    </tr>\n",
       "    <tr>\n",
       "      <td>Childish Disease</td>\n",
       "      <td>0.080551</td>\n",
       "      <td>1.000000</td>\n",
       "      <td>0.162936</td>\n",
       "      <td>-0.140972</td>\n",
       "      <td>0.038538</td>\n",
       "      <td>-0.147761</td>\n",
       "      <td>-0.040261</td>\n",
       "    </tr>\n",
       "    <tr>\n",
       "      <td>Accident or Serious Trauma</td>\n",
       "      <td>0.215958</td>\n",
       "      <td>0.162936</td>\n",
       "      <td>1.000000</td>\n",
       "      <td>0.103166</td>\n",
       "      <td>-0.242722</td>\n",
       "      <td>0.013122</td>\n",
       "      <td>-0.141346</td>\n",
       "    </tr>\n",
       "    <tr>\n",
       "      <td>Surgical Intervention</td>\n",
       "      <td>0.271945</td>\n",
       "      <td>-0.140972</td>\n",
       "      <td>0.103166</td>\n",
       "      <td>1.000000</td>\n",
       "      <td>-0.075858</td>\n",
       "      <td>-0.192726</td>\n",
       "      <td>0.054171</td>\n",
       "    </tr>\n",
       "    <tr>\n",
       "      <td>Frequency of alcohol Consumption</td>\n",
       "      <td>-0.247940</td>\n",
       "      <td>0.038538</td>\n",
       "      <td>-0.242722</td>\n",
       "      <td>-0.075858</td>\n",
       "      <td>1.000000</td>\n",
       "      <td>0.111371</td>\n",
       "      <td>-0.144760</td>\n",
       "    </tr>\n",
       "    <tr>\n",
       "      <td>Number of Hours sitting Per Day</td>\n",
       "      <td>-0.442452</td>\n",
       "      <td>-0.147761</td>\n",
       "      <td>0.013122</td>\n",
       "      <td>-0.192726</td>\n",
       "      <td>0.111371</td>\n",
       "      <td>1.000000</td>\n",
       "      <td>0.022964</td>\n",
       "    </tr>\n",
       "    <tr>\n",
       "      <td>Output</td>\n",
       "      <td>0.115229</td>\n",
       "      <td>-0.040261</td>\n",
       "      <td>-0.141346</td>\n",
       "      <td>0.054171</td>\n",
       "      <td>-0.144760</td>\n",
       "      <td>0.022964</td>\n",
       "      <td>1.000000</td>\n",
       "    </tr>\n",
       "  </tbody>\n",
       "</table>\n",
       "</div>"
      ],
      "text/plain": [
       "                                  Age at time of analysis  Childish Disease  \\\n",
       "Age at time of analysis                          1.000000          0.080551   \n",
       "Childish Disease                                 0.080551          1.000000   \n",
       "Accident or Serious Trauma                       0.215958          0.162936   \n",
       "Surgical Intervention                            0.271945         -0.140972   \n",
       "Frequency of alcohol Consumption                -0.247940          0.038538   \n",
       "Number of Hours sitting Per Day                 -0.442452         -0.147761   \n",
       "Output                                           0.115229         -0.040261   \n",
       "\n",
       "                                  Accident or Serious Trauma  \\\n",
       "Age at time of analysis                             0.215958   \n",
       "Childish Disease                                    0.162936   \n",
       "Accident or Serious Trauma                          1.000000   \n",
       "Surgical Intervention                               0.103166   \n",
       "Frequency of alcohol Consumption                   -0.242722   \n",
       "Number of Hours sitting Per Day                     0.013122   \n",
       "Output                                             -0.141346   \n",
       "\n",
       "                                  Surgical Intervention  \\\n",
       "Age at time of analysis                        0.271945   \n",
       "Childish Disease                              -0.140972   \n",
       "Accident or Serious Trauma                     0.103166   \n",
       "Surgical Intervention                          1.000000   \n",
       "Frequency of alcohol Consumption              -0.075858   \n",
       "Number of Hours sitting Per Day               -0.192726   \n",
       "Output                                         0.054171   \n",
       "\n",
       "                                  Frequency of alcohol Consumption  \\\n",
       "Age at time of analysis                                  -0.247940   \n",
       "Childish Disease                                          0.038538   \n",
       "Accident or Serious Trauma                               -0.242722   \n",
       "Surgical Intervention                                    -0.075858   \n",
       "Frequency of alcohol Consumption                          1.000000   \n",
       "Number of Hours sitting Per Day                           0.111371   \n",
       "Output                                                   -0.144760   \n",
       "\n",
       "                                  Number of Hours sitting Per Day    Output  \n",
       "Age at time of analysis                                 -0.442452  0.115229  \n",
       "Childish Disease                                        -0.147761 -0.040261  \n",
       "Accident or Serious Trauma                               0.013122 -0.141346  \n",
       "Surgical Intervention                                   -0.192726  0.054171  \n",
       "Frequency of alcohol Consumption                         0.111371 -0.144760  \n",
       "Number of Hours sitting Per Day                          1.000000  0.022964  \n",
       "Output                                                   0.022964  1.000000  "
      ]
     },
     "execution_count": 53,
     "metadata": {},
     "output_type": "execute_result"
    }
   ],
   "source": [
    "fertility.corr()"
   ]
  },
  {
   "cell_type": "markdown",
   "metadata": {},
   "source": [
    "Time to convert our categorical features into dummy variables"
   ]
  },
  {
   "cell_type": "code",
   "execution_count": 54,
   "metadata": {},
   "outputs": [],
   "source": [
    "fertility = pd.get_dummies(fertility)"
   ]
  },
  {
   "cell_type": "code",
   "execution_count": 55,
   "metadata": {},
   "outputs": [
    {
     "data": {
      "text/html": [
       "<div>\n",
       "<style scoped>\n",
       "    .dataframe tbody tr th:only-of-type {\n",
       "        vertical-align: middle;\n",
       "    }\n",
       "\n",
       "    .dataframe tbody tr th {\n",
       "        vertical-align: top;\n",
       "    }\n",
       "\n",
       "    .dataframe thead th {\n",
       "        text-align: right;\n",
       "    }\n",
       "</style>\n",
       "<table border=\"1\" class=\"dataframe\">\n",
       "  <thead>\n",
       "    <tr style=\"text-align: right;\">\n",
       "      <th></th>\n",
       "      <th>Age at time of analysis</th>\n",
       "      <th>Childish Disease</th>\n",
       "      <th>Accident or Serious Trauma</th>\n",
       "      <th>Surgical Intervention</th>\n",
       "      <th>Frequency of alcohol Consumption</th>\n",
       "      <th>Number of Hours sitting Per Day</th>\n",
       "      <th>Output</th>\n",
       "      <th>Season_Summer</th>\n",
       "      <th>Season_Winter</th>\n",
       "      <th>Season_fall</th>\n",
       "      <th>Season_spring</th>\n",
       "      <th>High Fevers in the last year_less than three months ago</th>\n",
       "      <th>High Fevers in the last year_more than three months ago</th>\n",
       "      <th>High Fevers in the last year_none</th>\n",
       "      <th>Smoking Habit_Never</th>\n",
       "      <th>Smoking Habit_Occasional</th>\n",
       "      <th>Smoking Habit_daily</th>\n",
       "    </tr>\n",
       "  </thead>\n",
       "  <tbody>\n",
       "    <tr>\n",
       "      <td>0</td>\n",
       "      <td>0.69</td>\n",
       "      <td>0</td>\n",
       "      <td>1</td>\n",
       "      <td>1</td>\n",
       "      <td>0.8</td>\n",
       "      <td>0.88</td>\n",
       "      <td>0</td>\n",
       "      <td>0</td>\n",
       "      <td>0</td>\n",
       "      <td>0</td>\n",
       "      <td>1</td>\n",
       "      <td>0</td>\n",
       "      <td>1</td>\n",
       "      <td>0</td>\n",
       "      <td>0</td>\n",
       "      <td>1</td>\n",
       "      <td>0</td>\n",
       "    </tr>\n",
       "    <tr>\n",
       "      <td>1</td>\n",
       "      <td>0.94</td>\n",
       "      <td>1</td>\n",
       "      <td>0</td>\n",
       "      <td>1</td>\n",
       "      <td>0.8</td>\n",
       "      <td>0.31</td>\n",
       "      <td>1</td>\n",
       "      <td>0</td>\n",
       "      <td>0</td>\n",
       "      <td>0</td>\n",
       "      <td>1</td>\n",
       "      <td>0</td>\n",
       "      <td>1</td>\n",
       "      <td>0</td>\n",
       "      <td>0</td>\n",
       "      <td>0</td>\n",
       "      <td>1</td>\n",
       "    </tr>\n",
       "    <tr>\n",
       "      <td>2</td>\n",
       "      <td>0.50</td>\n",
       "      <td>1</td>\n",
       "      <td>0</td>\n",
       "      <td>0</td>\n",
       "      <td>1.0</td>\n",
       "      <td>0.50</td>\n",
       "      <td>0</td>\n",
       "      <td>0</td>\n",
       "      <td>0</td>\n",
       "      <td>0</td>\n",
       "      <td>1</td>\n",
       "      <td>0</td>\n",
       "      <td>1</td>\n",
       "      <td>0</td>\n",
       "      <td>1</td>\n",
       "      <td>0</td>\n",
       "      <td>0</td>\n",
       "    </tr>\n",
       "    <tr>\n",
       "      <td>3</td>\n",
       "      <td>0.75</td>\n",
       "      <td>0</td>\n",
       "      <td>1</td>\n",
       "      <td>1</td>\n",
       "      <td>1.0</td>\n",
       "      <td>0.38</td>\n",
       "      <td>0</td>\n",
       "      <td>0</td>\n",
       "      <td>0</td>\n",
       "      <td>0</td>\n",
       "      <td>1</td>\n",
       "      <td>0</td>\n",
       "      <td>1</td>\n",
       "      <td>0</td>\n",
       "      <td>1</td>\n",
       "      <td>0</td>\n",
       "      <td>0</td>\n",
       "    </tr>\n",
       "    <tr>\n",
       "      <td>4</td>\n",
       "      <td>0.67</td>\n",
       "      <td>1</td>\n",
       "      <td>1</td>\n",
       "      <td>0</td>\n",
       "      <td>0.8</td>\n",
       "      <td>0.50</td>\n",
       "      <td>1</td>\n",
       "      <td>0</td>\n",
       "      <td>0</td>\n",
       "      <td>0</td>\n",
       "      <td>1</td>\n",
       "      <td>0</td>\n",
       "      <td>1</td>\n",
       "      <td>0</td>\n",
       "      <td>1</td>\n",
       "      <td>0</td>\n",
       "      <td>0</td>\n",
       "    </tr>\n",
       "  </tbody>\n",
       "</table>\n",
       "</div>"
      ],
      "text/plain": [
       "   Age at time of analysis  Childish Disease  Accident or Serious Trauma  \\\n",
       "0                     0.69                 0                           1   \n",
       "1                     0.94                 1                           0   \n",
       "2                     0.50                 1                           0   \n",
       "3                     0.75                 0                           1   \n",
       "4                     0.67                 1                           1   \n",
       "\n",
       "   Surgical Intervention  Frequency of alcohol Consumption  \\\n",
       "0                      1                               0.8   \n",
       "1                      1                               0.8   \n",
       "2                      0                               1.0   \n",
       "3                      1                               1.0   \n",
       "4                      0                               0.8   \n",
       "\n",
       "   Number of Hours sitting Per Day  Output  Season_Summer  Season_Winter  \\\n",
       "0                             0.88       0              0              0   \n",
       "1                             0.31       1              0              0   \n",
       "2                             0.50       0              0              0   \n",
       "3                             0.38       0              0              0   \n",
       "4                             0.50       1              0              0   \n",
       "\n",
       "   Season_fall  Season_spring  \\\n",
       "0            0              1   \n",
       "1            0              1   \n",
       "2            0              1   \n",
       "3            0              1   \n",
       "4            0              1   \n",
       "\n",
       "   High Fevers in the last year_less than three months ago  \\\n",
       "0                                                  0         \n",
       "1                                                  0         \n",
       "2                                                  0         \n",
       "3                                                  0         \n",
       "4                                                  0         \n",
       "\n",
       "   High Fevers in the last year_more than three months ago  \\\n",
       "0                                                  1         \n",
       "1                                                  1         \n",
       "2                                                  1         \n",
       "3                                                  1         \n",
       "4                                                  1         \n",
       "\n",
       "   High Fevers in the last year_none  Smoking Habit_Never  \\\n",
       "0                                  0                    0   \n",
       "1                                  0                    0   \n",
       "2                                  0                    1   \n",
       "3                                  0                    1   \n",
       "4                                  0                    1   \n",
       "\n",
       "   Smoking Habit_Occasional  Smoking Habit_daily  \n",
       "0                         1                    0  \n",
       "1                         0                    1  \n",
       "2                         0                    0  \n",
       "3                         0                    0  \n",
       "4                         0                    0  "
      ]
     },
     "execution_count": 55,
     "metadata": {},
     "output_type": "execute_result"
    }
   ],
   "source": [
    "fertility.head()"
   ]
  },
  {
   "cell_type": "markdown",
   "metadata": {},
   "source": [
    "The reason why I did not scale the data is because the values are close to each other. If they are far away, then I would scale it."
   ]
  },
  {
   "cell_type": "markdown",
   "metadata": {},
   "source": [
    "# Train/Test Split"
   ]
  },
  {
   "cell_type": "code",
   "execution_count": 56,
   "metadata": {},
   "outputs": [],
   "source": [
    "from sklearn.model_selection import train_test_split"
   ]
  },
  {
   "cell_type": "code",
   "execution_count": 57,
   "metadata": {},
   "outputs": [],
   "source": [
    "x = fertility.drop('Output',axis=1)\n",
    "y = fertility['Output']"
   ]
  },
  {
   "cell_type": "code",
   "execution_count": 58,
   "metadata": {},
   "outputs": [],
   "source": [
    "x_train,x_test,y_train,y_test = train_test_split(x,y,test_size=.3,random_state=101)"
   ]
  },
  {
   "cell_type": "markdown",
   "metadata": {},
   "source": [
    "Logistic Regression "
   ]
  },
  {
   "cell_type": "code",
   "execution_count": 59,
   "metadata": {},
   "outputs": [],
   "source": [
    "from sklearn.linear_model import LogisticRegression"
   ]
  },
  {
   "cell_type": "code",
   "execution_count": 60,
   "metadata": {},
   "outputs": [],
   "source": [
    "lr = LogisticRegression()"
   ]
  },
  {
   "cell_type": "markdown",
   "metadata": {},
   "source": [
    "fit our training set"
   ]
  },
  {
   "cell_type": "code",
   "execution_count": 61,
   "metadata": {},
   "outputs": [
    {
     "name": "stderr",
     "output_type": "stream",
     "text": [
      "C:\\Users\\User\\Anaconda3\\lib\\site-packages\\sklearn\\linear_model\\logistic.py:432: FutureWarning: Default solver will be changed to 'lbfgs' in 0.22. Specify a solver to silence this warning.\n",
      "  FutureWarning)\n"
     ]
    },
    {
     "data": {
      "text/plain": [
       "LogisticRegression(C=1.0, class_weight=None, dual=False, fit_intercept=True,\n",
       "                   intercept_scaling=1, l1_ratio=None, max_iter=100,\n",
       "                   multi_class='warn', n_jobs=None, penalty='l2',\n",
       "                   random_state=None, solver='warn', tol=0.0001, verbose=0,\n",
       "                   warm_start=False)"
      ]
     },
     "execution_count": 61,
     "metadata": {},
     "output_type": "execute_result"
    }
   ],
   "source": [
    "lr.fit(x_train,y_train)"
   ]
  },
  {
   "cell_type": "code",
   "execution_count": 62,
   "metadata": {},
   "outputs": [],
   "source": [
    "pred = lr.predict(x_test)"
   ]
  },
  {
   "cell_type": "markdown",
   "metadata": {},
   "source": [
    "# Evaluation Metrics "
   ]
  },
  {
   "cell_type": "code",
   "execution_count": 63,
   "metadata": {},
   "outputs": [],
   "source": [
    "from sklearn.metrics import confusion_matrix, classification_report"
   ]
  },
  {
   "cell_type": "code",
   "execution_count": 64,
   "metadata": {},
   "outputs": [
    {
     "name": "stdout",
     "output_type": "stream",
     "text": [
      "[[28  0]\n",
      " [ 2  0]]\n"
     ]
    }
   ],
   "source": [
    "print(confusion_matrix(y_test,pred))"
   ]
  },
  {
   "cell_type": "code",
   "execution_count": 65,
   "metadata": {},
   "outputs": [
    {
     "name": "stdout",
     "output_type": "stream",
     "text": [
      "              precision    recall  f1-score   support\n",
      "\n",
      "           0       0.93      1.00      0.97        28\n",
      "           1       0.00      0.00      0.00         2\n",
      "\n",
      "    accuracy                           0.93        30\n",
      "   macro avg       0.47      0.50      0.48        30\n",
      "weighted avg       0.87      0.93      0.90        30\n",
      "\n"
     ]
    },
    {
     "name": "stderr",
     "output_type": "stream",
     "text": [
      "C:\\Users\\User\\Anaconda3\\lib\\site-packages\\sklearn\\metrics\\classification.py:1437: UndefinedMetricWarning: Precision and F-score are ill-defined and being set to 0.0 in labels with no predicted samples.\n",
      "  'precision', 'predicted', average, warn_for)\n"
     ]
    }
   ],
   "source": [
    "print(classification_report(y_test,pred))"
   ]
  },
  {
   "cell_type": "markdown",
   "metadata": {},
   "source": [
    "Looking at our score, we have a very good score with an accuracy score of 93%. Lets see if we can improve it with random forest classifier"
   ]
  },
  {
   "cell_type": "code",
   "execution_count": 66,
   "metadata": {},
   "outputs": [],
   "source": [
    "from sklearn.ensemble import RandomForestClassifier"
   ]
  },
  {
   "cell_type": "code",
   "execution_count": 67,
   "metadata": {},
   "outputs": [],
   "source": [
    "rfc = RandomForestClassifier(n_estimators=100)"
   ]
  },
  {
   "cell_type": "markdown",
   "metadata": {},
   "source": [
    "fitting our testing data in random forest"
   ]
  },
  {
   "cell_type": "code",
   "execution_count": 68,
   "metadata": {},
   "outputs": [
    {
     "data": {
      "text/plain": [
       "RandomForestClassifier(bootstrap=True, class_weight=None, criterion='gini',\n",
       "                       max_depth=None, max_features='auto', max_leaf_nodes=None,\n",
       "                       min_impurity_decrease=0.0, min_impurity_split=None,\n",
       "                       min_samples_leaf=1, min_samples_split=2,\n",
       "                       min_weight_fraction_leaf=0.0, n_estimators=100,\n",
       "                       n_jobs=None, oob_score=False, random_state=None,\n",
       "                       verbose=0, warm_start=False)"
      ]
     },
     "execution_count": 68,
     "metadata": {},
     "output_type": "execute_result"
    }
   ],
   "source": [
    "rfc.fit(x_train,y_train)"
   ]
  },
  {
   "cell_type": "code",
   "execution_count": 69,
   "metadata": {},
   "outputs": [],
   "source": [
    "rfc_pred = rfc.predict(x_test)"
   ]
  },
  {
   "cell_type": "code",
   "execution_count": 70,
   "metadata": {},
   "outputs": [
    {
     "name": "stdout",
     "output_type": "stream",
     "text": [
      "[[28  0]\n",
      " [ 2  0]]\n",
      "              precision    recall  f1-score   support\n",
      "\n",
      "           0       0.93      1.00      0.97        28\n",
      "           1       0.00      0.00      0.00         2\n",
      "\n",
      "    accuracy                           0.93        30\n",
      "   macro avg       0.47      0.50      0.48        30\n",
      "weighted avg       0.87      0.93      0.90        30\n",
      "\n"
     ]
    },
    {
     "name": "stderr",
     "output_type": "stream",
     "text": [
      "C:\\Users\\User\\Anaconda3\\lib\\site-packages\\sklearn\\metrics\\classification.py:1437: UndefinedMetricWarning: Precision and F-score are ill-defined and being set to 0.0 in labels with no predicted samples.\n",
      "  'precision', 'predicted', average, warn_for)\n"
     ]
    }
   ],
   "source": [
    "print(confusion_matrix(y_test,rfc_pred))\n",
    "print(classification_report(y_test,rfc_pred))"
   ]
  },
  {
   "cell_type": "markdown",
   "metadata": {},
   "source": [
    "# Conclusion"
   ]
  },
  {
   "cell_type": "markdown",
   "metadata": {},
   "source": [
    "With the given data set, our model was able to predict 93% for sperm volunteers where the Diagnosis is normal. However, it was unable to predict the altered diagnosis. Why is this the case? I think one of the reason due to its data set. The data set for this is only 100 and majority of the data is towards 'normal' instead of 'altered'."
   ]
  },
  {
   "cell_type": "code",
   "execution_count": null,
   "metadata": {},
   "outputs": [],
   "source": []
  }
 ],
 "metadata": {
  "kernelspec": {
   "display_name": "Python 3",
   "language": "python",
   "name": "python3"
  },
  "language_info": {
   "codemirror_mode": {
    "name": "ipython",
    "version": 3
   },
   "file_extension": ".py",
   "mimetype": "text/x-python",
   "name": "python",
   "nbconvert_exporter": "python",
   "pygments_lexer": "ipython3",
   "version": "3.7.4"
  }
 },
 "nbformat": 4,
 "nbformat_minor": 4
}
